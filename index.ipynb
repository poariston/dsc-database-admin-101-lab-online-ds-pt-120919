{
 "cells": [
  {
   "cell_type": "markdown",
   "metadata": {},
   "source": [
    "# Database Admin 101 - Lab\n",
    "\n",
    "## Introduction \n",
    "\n",
    "In this lab, you'll go through the process of designing and creating a database. From there, you'll begin to populate this table with mock data provided to you.\n",
    "\n",
    "## Objectives\n",
    "\n",
    "You will be able to:\n",
    "\n",
    "* Use knowledge of the structure of databases to create a database and populate it"
   ]
  },
  {
   "cell_type": "markdown",
   "metadata": {},
   "source": [
    "## The Scenario\n",
    "\n",
    "You are looking to design a database for a school that will house various information from student grades to contact information, class roster lists and attendance. First, think of how you would design such a database. What tables would you include? What columns would each table have? What would be the primary means to join said tables?"
   ]
  },
  {
   "cell_type": "markdown",
   "metadata": {},
   "source": [
    "## Creating the Database\n",
    "\n",
    "Now that you've put a little thought into how you might design your database, it's time to go ahead and create it! Start by import the necessary packages. Then, create a database called **school.sqlite**."
   ]
  },
  {
   "cell_type": "code",
   "execution_count": 1,
   "metadata": {},
   "outputs": [
    {
     "name": "stdout",
     "output_type": "stream",
     "text": [
      " Volume in drive C has no label.\n",
      " Volume Serial Number is CC1C-B0AD\n",
      "\n",
      " Directory of C:\\Users\\poari\\Flatiron\\Section07_SQL\\dsc-database-admin-101-lab-online-ds-pt-120919\n",
      "\n",
      "01/22/2020  02:32 PM    <DIR>          .\n",
      "01/22/2020  02:32 PM    <DIR>          ..\n",
      "01/21/2020  06:56 PM                69 .gitignore\n",
      "01/22/2020  02:30 PM    <DIR>          .ipynb_checkpoints\n",
      "01/21/2020  06:56 PM                95 .learn\n",
      "01/21/2020  06:56 PM             1,213 contact_list.pickle\n",
      "01/21/2020  06:56 PM             1,849 CONTRIBUTING.md\n",
      "01/22/2020  02:32 PM             7,304 index.ipynb\n",
      "01/21/2020  06:56 PM             1,371 LICENSE.md\n",
      "01/21/2020  06:56 PM             3,824 README.md\n",
      "01/21/2020  06:56 PM            16,384 school.sqlite\n",
      "               8 File(s)         32,109 bytes\n",
      "               3 Dir(s)  650,889,019,392 bytes free\n"
     ]
    }
   ],
   "source": [
    "ls\n"
   ]
  },
  {
   "cell_type": "code",
   "execution_count": 3,
   "metadata": {},
   "outputs": [],
   "source": [
    "#Your code here; import necessary packages\n",
    "import sqlite3"
   ]
  },
  {
   "cell_type": "code",
   "execution_count": 4,
   "metadata": {},
   "outputs": [],
   "source": [
    "#Your code here; create the database school.sqlite\n",
    "conn = sqlite3.connect('school.sqlite')\n",
    "cur = conn.cursor()"
   ]
  },
  {
   "cell_type": "code",
   "execution_count": 5,
   "metadata": {},
   "outputs": [
    {
     "name": "stdout",
     "output_type": "stream",
     "text": [
      " Volume in drive C has no label.\n",
      " Volume Serial Number is CC1C-B0AD\n",
      "\n",
      " Directory of C:\\Users\\poari\\Flatiron\\Section07_SQL\\dsc-database-admin-101-lab-online-ds-pt-120919\n",
      "\n",
      "01/22/2020  02:34 PM    <DIR>          .\n",
      "01/22/2020  02:34 PM    <DIR>          ..\n",
      "01/21/2020  06:56 PM                69 .gitignore\n",
      "01/22/2020  02:30 PM    <DIR>          .ipynb_checkpoints\n",
      "01/21/2020  06:56 PM                95 .learn\n",
      "01/21/2020  06:56 PM             1,213 contact_list.pickle\n",
      "01/21/2020  06:56 PM             1,849 CONTRIBUTING.md\n",
      "01/22/2020  02:34 PM             8,772 index.ipynb\n",
      "01/21/2020  06:56 PM             1,371 LICENSE.md\n",
      "01/21/2020  06:56 PM             3,824 README.md\n",
      "01/21/2020  06:56 PM            16,384 school.sqlite\n",
      "               8 File(s)         33,577 bytes\n",
      "               3 Dir(s)  650,889,228,288 bytes free\n"
     ]
    }
   ],
   "source": [
    "ls\n"
   ]
  },
  {
   "cell_type": "markdown",
   "metadata": {},
   "source": [
    "## Create a Table for Contact Information\n",
    "\n",
    "Create a table called contactInfo to house contact information for both students and staff. Be sure to include columns for first name, last name, role (student/staff), telephone number, street, city, state, and zipcode. Be sure to also create a primary key for the table. "
   ]
  },
  {
   "cell_type": "code",
   "execution_count": 9,
   "metadata": {},
   "outputs": [
    {
     "data": {
      "text/plain": [
       "<sqlite3.Cursor at 0x21399d4ef80>"
      ]
     },
     "execution_count": 9,
     "metadata": {},
     "output_type": "execute_result"
    }
   ],
   "source": [
    "#Your code here\n",
    "cur.execute(\"\"\"\n",
    "            CREATE TABLE contactInfo2 (  id INTEGER PRIMARY KEY,\n",
    "                                        firstName TEXT,\n",
    "                                        lastName TEXT,\n",
    "                                        role TEXT,\n",
    "                                        phone INTEGER,\n",
    "                                        street TEXT,\n",
    "                                        city TEXT,\n",
    "                                        state TEXT,\n",
    "                                        zipcode INTEGER ) \n",
    "            \"\"\")"
   ]
  },
  {
   "cell_type": "markdown",
   "metadata": {},
   "source": [
    "## Populate the Table\n",
    "\n",
    "Below, code is provided for you in order to load a list of dictionaries. Briefly examine the list. Each dictionary in the list will serve as an entry for your contact info table. Once you've briefly investigated the structure of this data, write a for loop to iterate through the list and create an entry in your table for each person's contact info."
   ]
  },
  {
   "cell_type": "code",
   "execution_count": 10,
   "metadata": {},
   "outputs": [],
   "source": [
    "# Code to load the list of dictionaries; just run this cell\n",
    "import pickle\n",
    "\n",
    "with open('contact_list.pickle', 'rb') as f:\n",
    "    contacts = pickle.load(f)"
   ]
  },
  {
   "cell_type": "code",
   "execution_count": 24,
   "metadata": {},
   "outputs": [
    {
     "data": {
      "text/plain": [
       "(1, 2, 3)"
      ]
     },
     "execution_count": 24,
     "metadata": {},
     "output_type": "execute_result"
    }
   ],
   "source": [
    "# contacts\n",
    "# type(contacts)\n",
    "# type(contacts[0])\n",
    "# contacts[0].keys()\n",
    "tuple(contacts[0].values())\n",
    "tuple([1,2,3])"
   ]
  },
  {
   "cell_type": "code",
   "execution_count": 25,
   "metadata": {},
   "outputs": [
    {
     "ename": "OperationalError",
     "evalue": "near \"tuple\": syntax error",
     "output_type": "error",
     "traceback": [
      "\u001b[1;31m---------------------------------------------------------------------------\u001b[0m",
      "\u001b[1;31mOperationalError\u001b[0m                          Traceback (most recent call last)",
      "\u001b[1;32m<ipython-input-25-0ccbe5eab8d0>\u001b[0m in \u001b[0;36m<module>\u001b[1;34m\u001b[0m\n\u001b[0;32m      4\u001b[0m                 \u001b[0mINSERT\u001b[0m \u001b[0mINTO\u001b[0m \u001b[0mcontactInfo2\u001b[0m \u001b[1;33m(\u001b[0m\u001b[0mfirstName\u001b[0m \u001b[1;33m,\u001b[0m\u001b[0mlastName\u001b[0m \u001b[1;33m,\u001b[0m \u001b[0mrole\u001b[0m \u001b[1;33m,\u001b[0m \u001b[0mphone\u001b[0m \u001b[1;33m,\u001b[0m \u001b[0mstreet\u001b[0m \u001b[1;33m,\u001b[0m\u001b[0mcity\u001b[0m \u001b[1;33m,\u001b[0m \u001b[0mstate\u001b[0m \u001b[1;33m,\u001b[0m \u001b[0mzipcode\u001b[0m\u001b[1;33m)\u001b[0m\u001b[1;33m\u001b[0m\u001b[1;33m\u001b[0m\u001b[0m\n\u001b[0;32m      5\u001b[0m                 \u001b[0mVALUES\u001b[0m \u001b[0mtuple\u001b[0m\u001b[1;33m(\u001b[0m\u001b[0mcontacts\u001b[0m\u001b[1;33m[\u001b[0m\u001b[0mi\u001b[0m\u001b[1;33m]\u001b[0m\u001b[1;33m.\u001b[0m\u001b[0mvalues\u001b[0m\u001b[1;33m(\u001b[0m\u001b[1;33m)\u001b[0m\u001b[1;33m)\u001b[0m\u001b[1;33m\u001b[0m\u001b[1;33m\u001b[0m\u001b[0m\n\u001b[1;32m----> 6\u001b[1;33m                 ;\"\"\")\n\u001b[0m",
      "\u001b[1;31mOperationalError\u001b[0m: near \"tuple\": syntax error"
     ]
    }
   ],
   "source": [
    "# Your code to iterate over the contact list and populate the contactInfo table here\n",
    "for i in range(len(contacts)):\n",
    "    cur.execute(\"\"\"\n",
    "                INSERT INTO contactInfo2 (firstName ,lastName , role , phone , street ,city , state , zipcode)\n",
    "                VALUES tuple(contacts[i].values())\n",
    "                ;\"\"\")"
   ]
  },
  {
   "cell_type": "markdown",
   "metadata": {},
   "source": [
    "**Query the Table to Ensure it is populated**"
   ]
  },
  {
   "cell_type": "code",
   "execution_count": 10,
   "metadata": {},
   "outputs": [],
   "source": [
    "# Your code here "
   ]
  },
  {
   "cell_type": "markdown",
   "metadata": {},
   "source": [
    "## Commit Your Changes to the Database\n",
    "\n",
    "Persist your changes by committing them to the database."
   ]
  },
  {
   "cell_type": "code",
   "execution_count": 12,
   "metadata": {},
   "outputs": [],
   "source": [
    "#Your code here"
   ]
  },
  {
   "cell_type": "markdown",
   "metadata": {},
   "source": [
    "## Create a Table for Student Grades\n",
    "\n",
    "Create a new table in the database called \"grades\". In the table, include the following fields: userId, courseId, grade.\n",
    "\n",
    "** This problem is a bit more tricky and will require a dual key. (A nuance you have yet to see.)\n",
    "Here's how to do that:\n",
    "\n",
    "```SQL\n",
    "CREATE TABLE table_name(\n",
    "   column_1 INTEGER NOT NULL,\n",
    "   column_2 INTEGER NOT NULL,\n",
    "   ...\n",
    "   PRIMARY KEY(column_1,column_2,...)\n",
    ");\n",
    "```"
   ]
  },
  {
   "cell_type": "code",
   "execution_count": 14,
   "metadata": {},
   "outputs": [],
   "source": [
    "#Your code here; create the grades table."
   ]
  },
  {
   "cell_type": "markdown",
   "metadata": {},
   "source": [
    "## Remove Duplicate Entries\n",
    "\n",
    "An analyst just realized that there is a duplicate entry in the contactInfo table! Find and remove it."
   ]
  },
  {
   "cell_type": "code",
   "execution_count": 16,
   "metadata": {},
   "outputs": [],
   "source": [
    "#Your code here; find the duplicate entry"
   ]
  },
  {
   "cell_type": "code",
   "execution_count": 18,
   "metadata": {},
   "outputs": [],
   "source": [
    "#Your code here; delete the duplicate entry"
   ]
  },
  {
   "cell_type": "code",
   "execution_count": 20,
   "metadata": {},
   "outputs": [],
   "source": [
    "#Your code here; check that the duplicate entry was removed."
   ]
  },
  {
   "cell_type": "markdown",
   "metadata": {},
   "source": [
    "## Updating an Address\n",
    "\n",
    "Ed Lyman just moved to `2910 Simpson Avenue York, PA 17403`. Update his address accordingly."
   ]
  },
  {
   "cell_type": "code",
   "execution_count": 22,
   "metadata": {},
   "outputs": [],
   "source": [
    "#Your code here; update Ed's address"
   ]
  },
  {
   "cell_type": "code",
   "execution_count": 24,
   "metadata": {},
   "outputs": [],
   "source": [
    "#Your code here; Query the database to ensure the change was made"
   ]
  },
  {
   "cell_type": "markdown",
   "metadata": {},
   "source": [
    "## Commit Your Changes to the Database\n",
    "\n",
    "Once again, persist your changes by committing them to the database."
   ]
  },
  {
   "cell_type": "code",
   "execution_count": 26,
   "metadata": {},
   "outputs": [],
   "source": [
    "#Your code here"
   ]
  },
  {
   "cell_type": "markdown",
   "metadata": {},
   "source": [
    "## Summary\n",
    "\n",
    "While there's certainly more to do with setting up and managing this database, you got a taste for creating, populating, and maintaining databases! Feel free to continue fleshing out this exercise for more practice. "
   ]
  }
 ],
 "metadata": {
  "kernelspec": {
   "display_name": "Python 3",
   "language": "python",
   "name": "python3"
  },
  "language_info": {
   "codemirror_mode": {
    "name": "ipython",
    "version": 3
   },
   "file_extension": ".py",
   "mimetype": "text/x-python",
   "name": "python",
   "nbconvert_exporter": "python",
   "pygments_lexer": "ipython3",
   "version": "3.6.9"
  },
  "toc": {
   "base_numbering": 1,
   "nav_menu": {},
   "number_sections": true,
   "sideBar": true,
   "skip_h1_title": false,
   "title_cell": "Table of Contents",
   "title_sidebar": "Contents",
   "toc_cell": false,
   "toc_position": {},
   "toc_section_display": true,
   "toc_window_display": false
  }
 },
 "nbformat": 4,
 "nbformat_minor": 2
}
